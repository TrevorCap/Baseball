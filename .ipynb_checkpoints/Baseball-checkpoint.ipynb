{
 "cells": [
  {
   "cell_type": "code",
   "execution_count": 1,
   "metadata": {},
   "outputs": [],
   "source": [
    "#Importing of dependencies, maybe don't need all?\n",
    "import matplotlib.pyplot as plt\n",
    "import csv\n",
    "import numpy as np\n",
    "from numpy.polynomial.polynomial import polyfit as poly\n",
    "import statsmodels.api as sm\n",
    "import scipy as stats\n",
    "import pandas as pd\n",
    "from sklearn import linear_model\n",
    "from sklearn.ensemble import RandomForestRegressor\n",
    "from pprint import pprint"
   ]
  },
  {
   "cell_type": "code",
   "execution_count": 2,
   "metadata": {},
   "outputs": [
    {
     "data": {
      "text/html": [
       "<div>\n",
       "<style scoped>\n",
       "    .dataframe tbody tr th:only-of-type {\n",
       "        vertical-align: middle;\n",
       "    }\n",
       "\n",
       "    .dataframe tbody tr th {\n",
       "        vertical-align: top;\n",
       "    }\n",
       "\n",
       "    .dataframe thead th {\n",
       "        text-align: right;\n",
       "    }\n",
       "</style>\n",
       "<table border=\"1\" class=\"dataframe\">\n",
       "  <thead>\n",
       "    <tr style=\"text-align: right;\">\n",
       "      <th></th>\n",
       "      <th>Season</th>\n",
       "      <th>Name_x</th>\n",
       "      <th>O-Swing%</th>\n",
       "      <th>Z-Swing%</th>\n",
       "      <th>Swing%</th>\n",
       "      <th>O-Contact%</th>\n",
       "      <th>Z-Contact%</th>\n",
       "      <th>Contact%</th>\n",
       "      <th>Zone%</th>\n",
       "      <th>F-Strike%</th>\n",
       "      <th>...</th>\n",
       "      <th>H</th>\n",
       "      <th>R</th>\n",
       "      <th>ER</th>\n",
       "      <th>HR</th>\n",
       "      <th>BB</th>\n",
       "      <th>IBB</th>\n",
       "      <th>HBP</th>\n",
       "      <th>WP</th>\n",
       "      <th>BK</th>\n",
       "      <th>SO</th>\n",
       "    </tr>\n",
       "  </thead>\n",
       "  <tbody>\n",
       "    <tr>\n",
       "      <th>0</th>\n",
       "      <td>2017</td>\n",
       "      <td>Sean Doolittle</td>\n",
       "      <td>46.3 %</td>\n",
       "      <td>75.8 %</td>\n",
       "      <td>59.9 %</td>\n",
       "      <td>68.9 %</td>\n",
       "      <td>78.2 %</td>\n",
       "      <td>74.3 %</td>\n",
       "      <td>46.2 %</td>\n",
       "      <td>70.6 %</td>\n",
       "      <td>...</td>\n",
       "      <td>34</td>\n",
       "      <td>18</td>\n",
       "      <td>16</td>\n",
       "      <td>5</td>\n",
       "      <td>10</td>\n",
       "      <td>1</td>\n",
       "      <td>0</td>\n",
       "      <td>3</td>\n",
       "      <td>0</td>\n",
       "      <td>62</td>\n",
       "    </tr>\n",
       "    <tr>\n",
       "      <th>1</th>\n",
       "      <td>2012</td>\n",
       "      <td>Koji Uehara</td>\n",
       "      <td>46.1 %</td>\n",
       "      <td>70.3 %</td>\n",
       "      <td>57.7 %</td>\n",
       "      <td>65.9 %</td>\n",
       "      <td>68.2 %</td>\n",
       "      <td>67.2 %</td>\n",
       "      <td>48.0 %</td>\n",
       "      <td>66.9 %</td>\n",
       "      <td>...</td>\n",
       "      <td>20</td>\n",
       "      <td>7</td>\n",
       "      <td>7</td>\n",
       "      <td>4</td>\n",
       "      <td>3</td>\n",
       "      <td>0</td>\n",
       "      <td>0</td>\n",
       "      <td>1</td>\n",
       "      <td>0</td>\n",
       "      <td>43</td>\n",
       "    </tr>\n",
       "    <tr>\n",
       "      <th>2</th>\n",
       "      <td>2007</td>\n",
       "      <td>Kevin Hart</td>\n",
       "      <td>44.3 %</td>\n",
       "      <td>63.4 %</td>\n",
       "      <td>52.4 %</td>\n",
       "      <td>39.5 %</td>\n",
       "      <td>84.4 %</td>\n",
       "      <td>62.5 %</td>\n",
       "      <td>42.3 %</td>\n",
       "      <td>61.9 %</td>\n",
       "      <td>...</td>\n",
       "      <td>7</td>\n",
       "      <td>1</td>\n",
       "      <td>1</td>\n",
       "      <td>0</td>\n",
       "      <td>4</td>\n",
       "      <td>0</td>\n",
       "      <td>0</td>\n",
       "      <td>0</td>\n",
       "      <td>0</td>\n",
       "      <td>13</td>\n",
       "    </tr>\n",
       "    <tr>\n",
       "      <th>3</th>\n",
       "      <td>2017</td>\n",
       "      <td>Josh Lindblom</td>\n",
       "      <td>43.6 %</td>\n",
       "      <td>75.0 %</td>\n",
       "      <td>56.5 %</td>\n",
       "      <td>70.8 %</td>\n",
       "      <td>93.0 %</td>\n",
       "      <td>82.9 %</td>\n",
       "      <td>40.9 %</td>\n",
       "      <td>66.7 %</td>\n",
       "      <td>...</td>\n",
       "      <td>18</td>\n",
       "      <td>9</td>\n",
       "      <td>9</td>\n",
       "      <td>0</td>\n",
       "      <td>3</td>\n",
       "      <td>0</td>\n",
       "      <td>0</td>\n",
       "      <td>0</td>\n",
       "      <td>0</td>\n",
       "      <td>10</td>\n",
       "    </tr>\n",
       "    <tr>\n",
       "      <th>4</th>\n",
       "      <td>2013</td>\n",
       "      <td>Brandon Gomes</td>\n",
       "      <td>42.9 %</td>\n",
       "      <td>61.5 %</td>\n",
       "      <td>50.9 %</td>\n",
       "      <td>56.8 %</td>\n",
       "      <td>71.6 %</td>\n",
       "      <td>64.5 %</td>\n",
       "      <td>43.1 %</td>\n",
       "      <td>69.9 %</td>\n",
       "      <td>...</td>\n",
       "      <td>18</td>\n",
       "      <td>15</td>\n",
       "      <td>14</td>\n",
       "      <td>4</td>\n",
       "      <td>7</td>\n",
       "      <td>3</td>\n",
       "      <td>0</td>\n",
       "      <td>1</td>\n",
       "      <td>0</td>\n",
       "      <td>29</td>\n",
       "    </tr>\n",
       "  </tbody>\n",
       "</table>\n",
       "<p>5 rows × 40 columns</p>\n",
       "</div>"
      ],
      "text/plain": [
       "   Season          Name_x O-Swing% Z-Swing%  Swing% O-Contact% Z-Contact%  \\\n",
       "0    2017  Sean Doolittle   46.3 %   75.8 %  59.9 %     68.9 %     78.2 %   \n",
       "1    2012     Koji Uehara   46.1 %   70.3 %  57.7 %     65.9 %     68.2 %   \n",
       "2    2007      Kevin Hart   44.3 %   63.4 %  52.4 %     39.5 %     84.4 %   \n",
       "3    2017   Josh Lindblom   43.6 %   75.0 %  56.5 %     70.8 %     93.0 %   \n",
       "4    2013   Brandon Gomes   42.9 %   61.5 %  50.9 %     56.8 %     71.6 %   \n",
       "\n",
       "  Contact%   Zone% F-Strike% ...   H   R  ER HR  BB  IBB  HBP  WP  BK  SO  \n",
       "0   74.3 %  46.2 %    70.6 % ...  34  18  16  5  10    1    0   3   0  62  \n",
       "1   67.2 %  48.0 %    66.9 % ...  20   7   7  4   3    0    0   1   0  43  \n",
       "2   62.5 %  42.3 %    61.9 % ...   7   1   1  0   4    0    0   0   0  13  \n",
       "3   82.9 %  40.9 %    66.7 % ...  18   9   9  0   3    0    0   0   0  10  \n",
       "4   64.5 %  43.1 %    69.9 % ...  18  15  14  4   7    3    0   1   0  29  \n",
       "\n",
       "[5 rows x 40 columns]"
      ]
     },
     "execution_count": 2,
     "metadata": {},
     "output_type": "execute_result"
    }
   ],
   "source": [
    "#read our Fangraphs data from the following links:\n",
    "#https://www.fangraphs.com/leaders.aspx?pos=all&stats=pit&lg=all&qual=10&type=1&season=2018&month=0&season1=2002&ind=1&team=0&rost=0&age=0&filter=&players=0\n",
    "#https://www.fangraphs.com/leaders.aspx?pos=all&stats=pit&lg=all&qual=10&type=5&season=2018&month=0&season1=2002&ind=1&team=0&rost=0&age=0&filter=&players=0\n",
    "pdstats = pd.read_csv(\"Resources/Leaderboard.csv\")\n",
    "restats = pd.read_csv(\"Resources/Leaderboard2.csv\")\n",
    "bastats = pd.read_csv(\"Resources/Leaderboard3.csv\")\n",
    "# Combine individual player seasons\n",
    "one = pd.merge(pdstats, restats, on=['Season', 'playerid'])\n",
    "# Remove data that is not likely to be relevant\n",
    "one = one.drop(['Team_x', 'LOB%', 'ERA-', 'FIP-', 'xFIP-', 'E-F', 'AVG', 'WHIP', 'K/BB', 'K/9', 'BB/9', 'HR/9', 'SIERA', 'Name_y', 'Team_y'], axis=1)\n",
    "total = pd.merge(one, bastats, on=['Season', 'playerid'])\n",
    "total = total.drop(['W', 'L', 'Name'], axis = 1)\n",
    "total.head()"
   ]
  },
  {
   "cell_type": "code",
   "execution_count": 3,
   "metadata": {},
   "outputs": [],
   "source": [
    "# Remove all of the % signs from the Data\n",
    "total['O-Swing%'] = total['O-Swing%'].str.replace(r' %', r'').astype('float') /100.0\n",
    "total['Z-Swing%'] = total['Z-Swing%'].str.replace(r' %', r'').astype('float') /100.0\n",
    "total['Swing%'] = total['Swing%'].str.replace(r' %', r'').astype('float') /100.0\n",
    "total['O-Contact%'] = total['O-Contact%'].str.replace(r' %', r'').astype('float') /100.0\n",
    "total['Zone%'] = total['Zone%'].str.replace(r' %', r'').astype('float') /100.0\n",
    "total['Z-Contact%'] = total['Z-Contact%'].str.replace(r' %', r'').astype('float') /100.0\n",
    "total['Contact%'] = total['Contact%'].str.replace(r' %', r'').astype('float') /100.0\n",
    "total['F-Strike%'] = total['F-Strike%'].str.replace(r' %', r'').astype('float') /100.0\n",
    "total['SwStr%'] = total['SwStr%'].str.replace(r' %', r'').astype('float') /100.0\n",
    "total['K%'] = total['K%'].str.replace(r' %', r'').astype('float') /100.0\n",
    "total['BB%'] = total['BB%'].str.replace(r' %', r'').astype('float') /100.0\n",
    "total['K-BB%'] = total['K-BB%'].str.replace(r' %', r'').astype('float') /100.0"
   ]
  },
  {
   "cell_type": "code",
   "execution_count": 4,
   "metadata": {},
   "outputs": [],
   "source": [
    "# Add variables for calculatiopns based on Plate discipline data\n",
    "# Out of zone %\n",
    "total['O-Zone%'] = 1 - total['Zone%']\n",
    "# Zone swing percentage\n",
    "total['ZSwing'] = total['Zone%'] * total['Z-Swing%']\n",
    "# Zone Looking %\n",
    "total['ZLook'] = total['Zone%'] * (1- total['Z-Swing%'])\n",
    "# Out of Zone swing %\n",
    "total['OSwing'] = total['O-Zone%'] * total['O-Swing%']\n",
    "# Out of zone looking percentage\n",
    "total['OLook'] = total['O-Zone%'] * (1- total['O-Swing%'])\n",
    "# Zone contact percentage\n",
    "total['ZCon'] = total['ZSwing'] * total['Z-Contact%']\n",
    "# Zone Whiff percentage\n",
    "total['ZWif'] = total['ZSwing'] * (1 -total['Z-Contact%'])\n",
    "# Out of zone contact percentage\n",
    "total['OCon'] = total['OSwing'] * total['O-Contact%']\n",
    "# Out of zone Whiff percentage\n",
    "total['OWif'] = total['OSwing'] * (1 -total['O-Contact%'])\n",
    "total.to_csv(\"Resources/data.csv\")"
   ]
  },
  {
   "cell_type": "code",
   "execution_count": 5,
   "metadata": {},
   "outputs": [],
   "source": [
    "# t2002 = total[total.Season == 2002]\n",
    "# t2003 = total[total.Season == 2003]\n",
    "# t2004 = total[total.Season == 2004]\n",
    "# t2005 = total[total.Season == 2005]\n",
    "# t2006 = total[total.Season == 2006]\n",
    "# t2007 = total[total.Season == 2007]\n",
    "# t2008 = total[total.Season == 2008]\n",
    "# t2009 = total[total.Season == 2009]\n",
    "# t2010 = total[total.Season == 2010]\n",
    "# t2011 = total[total.Season == 2011]\n",
    "# t2012 = total[total.Season == 2012]\n",
    "# t2013 = total[total.Season == 2013]\n",
    "# t2014 = total[total.Season == 2014]\n",
    "# t2015 = total[total.Season == 2015]\n",
    "# t2016 = total[total.Season == 2016]\n",
    "# t2017 = total[total.Season == 2017]\n",
    "# t2018 = total[total.Season == 2018]"
   ]
  },
  {
   "cell_type": "code",
   "execution_count": 6,
   "metadata": {},
   "outputs": [],
   "source": [
    "# graph = pd.merge(t2017, t2018, on=['playerid'])\n",
    "# plt.figure(0)\n",
    "# plt.scatter(graph.ZLook_x, graph.ZLook_y)\n",
    "# b, m = poly(graph.ZLook_x, graph.ZLook_y, 1)\n",
    "# plt.plot(graph.ZLook_x, b + m * graph.ZLook_x, '-', c='r')\n",
    "# plt.title(f'The correlation for looking strikes in the zone is {m}.')\n",
    "\n",
    "\n",
    "# plt.figure(1)\n",
    "# plt.scatter(graph.OLook_x, graph.OLook_y)\n",
    "# b, m = poly(graph.OLook_x, graph.OLook_y, 1)\n",
    "# plt.plot(graph.OLook_x, b + m * graph.OLook_x, '-', c='r')\n",
    "# plt.title(f'The correlation for balls looking is {m}.')\n",
    "\n",
    "\n",
    "# plt.figure(2)\n",
    "# plt.scatter(graph.ZCon_x, graph.ZCon_y)\n",
    "# b, m = poly(graph.ZCon_x, graph.ZCon_y, 1)\n",
    "# plt.plot(graph.ZCon_x, b + m * graph.ZCon_x, '-', c='r')\n",
    "# plt.title(f'The correlation for in the zone contact is {m}.')\n",
    "\n",
    "\n",
    "# plt.figure(3)\n",
    "# plt.scatter(graph.ZWif_x, graph.ZWif_y)\n",
    "# b, m = poly(graph.ZWif_x, graph.ZWif_y, 1)\n",
    "# plt.plot(graph.ZWif_x, b + m * graph.ZWif_x, '-', c='r')\n",
    "# plt.title(f'The correlation for in the zone whiffs is {m}.')\n",
    "\n",
    "# plt.figure(4)\n",
    "# plt.scatter(graph.OCon_x, graph.OCon_y)\n",
    "# b, m = poly(graph.OCon_x, graph.OCon_y, 1)\n",
    "# plt.plot(graph.OCon_x, b + m * graph.OCon_x, '-', c='r')\n",
    "# plt.title(f'The correlation for out of zone contact is {m}.')\n",
    "\n",
    "# plt.figure(5)\n",
    "# plt.scatter(graph.OWif_x, graph.OWif_y)\n",
    "# b, m = poly(graph.OWif_x, graph.OWif_y, 1)\n",
    "# plt.plot(graph.OWif_x, b + m * graph.OWif_x, '-', c='r')\n",
    "# plt.title(f'The correlation for out of zone whiffs is {m}.')\n",
    "\n",
    "# plt.show()"
   ]
  },
  {
   "cell_type": "code",
   "execution_count": 7,
   "metadata": {},
   "outputs": [],
   "source": [
    "tester = total[total.Season > 2012]\n",
    "tester = tester[tester.Season < 2017]\n",
    "test = total[total.Season > 2016]"
   ]
  },
  {
   "cell_type": "code",
   "execution_count": 8,
   "metadata": {},
   "outputs": [],
   "source": [
    "xx =tester[['ZLook', 'OLook', 'ZCon', 'ZWif', 'OCon', 'OWif', 'F-Strike%', 'TBF']] \n",
    "kk = tester['K%']\n",
    "bb = tester['BB%']\n",
    "\n",
    "xxx = test[['ZLook', 'OLook', 'ZCon', 'ZWif', 'OCon', 'OWif', 'F-Strike%', 'TBF']] \n",
    "kkk = test['K%']\n",
    "bbb = test['BB%']"
   ]
  },
  {
   "cell_type": "code",
   "execution_count": 9,
   "metadata": {},
   "outputs": [],
   "source": [
    "# lm = linear_model.LinearRegression()\n",
    "# kmodel = lm.fit(xx, kk)\n",
    "# bmodel = lm.fit(xx, bb)\n",
    "# predictions = lm.predict(xxx)\n",
    "# predict = lm.predict(xx)\n",
    "# test['xK%'] = predictions"
   ]
  },
  {
   "cell_type": "code",
   "execution_count": 10,
   "metadata": {},
   "outputs": [],
   "source": [
    "# plt.figure(0)\n",
    "# #plt.scatter(xxx, yyy, c='r')\n",
    "\n",
    "# plt.scatter(yyy, predictions, c='b')\n",
    "# b, m = poly(yyy, predictions, 1)\n",
    "# plt.plot(yyy, b + m * yyy, '-', c='r')\n",
    "\n",
    "# plt.figure(1)\n",
    "# plt.scatter(yy, predict, c='g')\n",
    "# b, m = poly(yy, predict, 1)\n",
    "# plt.plot(yy, b + m * yy, '-', c='y')"
   ]
  },
  {
   "cell_type": "code",
   "execution_count": 19,
   "metadata": {},
   "outputs": [],
   "source": [
    "pds = pd.read_csv(\"Resources/2019.csv\")\n",
    "res = pd.read_csv(\"Resources/20192.csv\")\n",
    "bas = pd.read_csv(\"Resources/20193.csv\")\n",
    "# Combine individual player seasons\n",
    "imp = pd.merge(pds, res, on=['playerid'])\n",
    "tota = pd.merge(imp, bas, on=['playerid'])\n",
    "tota = tota.drop(['W', 'L', 'Name'], axis = 1)\n",
    "# Remove data that is not likely to be relevant\n",
    "tota = tota.drop(['Team_x', 'LOB%', 'ERA-', 'FIP-', 'xFIP-', 'E-F', 'AVG', 'WHIP', 'K/BB', 'K/9', 'BB/9', 'HR/9', 'SIERA', 'Name_y', 'Team_y'], axis=1)\n",
    "# Remove all of the % signs from the Data\n",
    "tota['O-Swing%'] = tota['O-Swing%'].str.replace(r' %', r'').astype('float') /100.0\n",
    "tota['Z-Swing%'] = tota['Z-Swing%'].str.replace(r' %', r'').astype('float') /100.0\n",
    "tota['Swing%'] = tota['Swing%'].str.replace(r' %', r'').astype('float') /100.0\n",
    "tota['O-Contact%'] = tota['O-Contact%'].str.replace(r' %', r'').astype('float') /100.0\n",
    "tota['Zone%'] = tota['Zone%'].str.replace(r' %', r'').astype('float') /100.0\n",
    "tota['Z-Contact%'] = tota['Z-Contact%'].str.replace(r' %', r'').astype('float') /100.0\n",
    "tota['Contact%'] = tota['Contact%'].str.replace(r' %', r'').astype('float') /100.0\n",
    "tota['F-Strike%'] = tota['F-Strike%'].str.replace(r' %', r'').astype('float') /100.0\n",
    "tota['SwStr%'] = tota['SwStr%'].str.replace(r' %', r'').astype('float') /100.0\n",
    "tota['K%'] = tota['K%'].str.replace(r' %', r'').astype('float') /100.0\n",
    "tota['BB%'] = tota['BB%'].str.replace(r' %', r'').astype('float') /100.0\n",
    "tota['K-BB%'] = tota['K-BB%'].str.replace(r' %', r'').astype('float') /100.0\n",
    "tota['O-Zone%'] = 1 - total['Zone%']\n",
    "# Zone swing percentage\n",
    "tota['ZSwing'] = tota['Zone%'] * tota['Z-Swing%']\n",
    "# Zone Looking %\n",
    "tota['ZLook'] = tota['Zone%'] * (1- tota['Z-Swing%'])\n",
    "# Out of Zone swing %\n",
    "tota['OSwing'] = tota['O-Zone%'] * tota['O-Swing%']\n",
    "# Out of zone looking percentage\n",
    "tota['OLook'] = tota['O-Zone%'] * (1- tota['O-Swing%'])\n",
    "# Zone contact percentage\n",
    "tota['ZCon'] = tota['ZSwing'] * tota['Z-Contact%']\n",
    "# Zone Whiff percentage\n",
    "tota['ZWif'] = tota['ZSwing'] * (1 -tota['Z-Contact%'])\n",
    "# Out of zone contact percentage\n",
    "tota['OCon'] = tota['OSwing'] * tota['O-Contact%']\n",
    "# Out of zone Whiff percentage\n",
    "tota['OWif'] = tota['OSwing'] * (1 -tota['O-Contact%'])"
   ]
  },
  {
   "cell_type": "code",
   "execution_count": 20,
   "metadata": {},
   "outputs": [
    {
     "name": "stderr",
     "output_type": "stream",
     "text": [
      "C:\\Users\\alana\\Anaconda3\\lib\\site-packages\\sklearn\\ensemble\\forest.py:246: FutureWarning: The default value of n_estimators will change from 10 in version 0.20 to 100 in 0.22.\n",
      "  \"10 in version 0.20 to 100 in 0.22.\", FutureWarning)\n",
      "C:\\Users\\alana\\Anaconda3\\lib\\site-packages\\sklearn\\ensemble\\forest.py:246: FutureWarning: The default value of n_estimators will change from 10 in version 0.20 to 100 in 0.22.\n",
      "  \"10 in version 0.20 to 100 in 0.22.\", FutureWarning)\n"
     ]
    }
   ],
   "source": [
    "kmdl = RandomForestRegressor()\n",
    "bmdl = RandomForestRegressor()\n",
    "kmdl.fit(xxx, kkk)\n",
    "bmdl.fit(xxx, bbb)\n",
    "k_hat = kmdl.predict(xx)\n",
    "b_hat = bmdl.predict(xx)"
   ]
  },
  {
   "cell_type": "code",
   "execution_count": 13,
   "metadata": {},
   "outputs": [
    {
     "data": {
      "text/plain": [
       "[<matplotlib.lines.Line2D at 0x21afc99a828>]"
      ]
     },
     "execution_count": 13,
     "metadata": {},
     "output_type": "execute_result"
    },
    {
     "data": {
      "image/png": "[encoded data removed]",
      "text/plain": [
       "<Figure size 432x288 with 1 Axes>"
      ]
     },
     "metadata": {
      "needs_background": "light"
     },
     "output_type": "display_data"
    },
    {
     "data": {
      "image/png": "[encoded data removed]",
      "text/plain": [
       "<Figure size 432x288 with 1 Axes>"
      ]
     },
     "metadata": {
      "needs_background": "light"
     },
     "output_type": "display_data"
    }
   ],
   "source": [
    "plt.figure(0)\n",
    "plt.scatter(kk, k_hat)\n",
    "b, m = poly(kk, k_hat, 1)\n",
    "plt.plot(kk, b + m * kk, '-', c='r')\n",
    "\n",
    "plt.figure(1)\n",
    "plt.scatter(bb, b_hat)\n",
    "b, m = poly(bb, b_hat, 1)\n",
    "plt.plot(bb, b + m * bb, '-', c='r')"
   ]
  },
  {
   "cell_type": "code",
   "execution_count": 14,
   "metadata": {},
   "outputs": [],
   "source": [
    "# mdl.decision_path(xxx)"
   ]
  },
  {
   "cell_type": "code",
   "execution_count": 21,
   "metadata": {
    "scrolled": true
   },
   "outputs": [],
   "source": [
    "xxxx =tota[['ZLook', 'OLook', 'ZCon', 'ZWif', 'OCon', 'OWif', 'F-Strike%', 'TBF']] \n",
    "kkkk = tota['K%']\n",
    "bbbb = tota['BB%']"
   ]
  },
  {
   "cell_type": "code",
   "execution_count": 22,
   "metadata": {},
   "outputs": [],
   "source": [
    "lm = linear_model.LinearRegression()\n",
    "klmodel = lm.fit(xxx, kkk)\n",
    "blmodel = lm.fit(xxx, bbb)"
   ]
  },
  {
   "cell_type": "code",
   "execution_count": 23,
   "metadata": {},
   "outputs": [
    {
     "data": {
      "text/plain": [
       "[<matplotlib.lines.Line2D at 0x21afd245e80>]"
      ]
     },
     "execution_count": 23,
     "metadata": {},
     "output_type": "execute_result"
    },
    {
     "data": {
      "image/png": "[encoded data removed]",
      "text/plain": [
       "<Figure size 432x288 with 1 Axes>"
      ]
     },
     "metadata": {
      "needs_background": "light"
     },
     "output_type": "display_data"
    },
    {
     "data": {
      "image/png": "[encoded data removed]",
      "text/plain": [
       "<Figure size 432x288 with 1 Axes>"
      ]
     },
     "metadata": {
      "needs_background": "light"
     },
     "output_type": "display_data"
    }
   ],
   "source": [
    "kpredicts = klmodel.predict(xxxx)\n",
    "bpredicts = blmodel.predict(xxxx)\n",
    "kscore = klmodel.score(xxxx, kkkk)\n",
    "bscore = blmodel.score(xxxx, bbbb)\n",
    "\n",
    "plt.figure(0)\n",
    "plt.scatter(kkkk, kpredicts, c='b')\n",
    "b, m = poly(kkkk, kpredicts, 1)\n",
    "plt.plot(kkkk, b + m * kkkk, '-', c='r')\n",
    "\n",
    "plt.figure(1)\n",
    "plt.scatter(bbbb, bpredicts, c='b')\n",
    "b, m = poly(bbbb, bpredicts, 1)\n",
    "plt.plot(bbbb, b + m * bbbb, '-', c='r')"
   ]
  },
  {
   "cell_type": "code",
   "execution_count": 24,
   "metadata": {},
   "outputs": [
    {
     "name": "stdout",
     "output_type": "stream",
     "text": [
      "-2.0650436423706715 -4.2762374692336715\n"
     ]
    }
   ],
   "source": [
    "print(kscore, bscore)"
   ]
  },
  {
   "cell_type": "code",
   "execution_count": 25,
   "metadata": {},
   "outputs": [],
   "source": [
    "k_hat = kmdl.predict(xxxx)\n",
    "b_hat = bmdl.predict(xxxx)"
   ]
  },
  {
   "cell_type": "code",
   "execution_count": 26,
   "metadata": {},
   "outputs": [
    {
     "data": {
      "text/plain": [
       "[(0.062455534450424385, 'ZLook'),\n",
       " (0.18450824753010378, 'OLook'),\n",
       " (0.05007172691756732, 'ZCon'),\n",
       " (0.208428305455267, 'ZWif'),\n",
       " (0.04079381784287409, 'OCon'),\n",
       " (0.3118431426793086, 'OWif'),\n",
       " (0.06037699281103829, 'F-Strike%'),\n",
       " (0.08152223231341647, 'TBF')]"
      ]
     },
     "execution_count": 26,
     "metadata": {},
     "output_type": "execute_result"
    }
   ],
   "source": [
    "[(x[0], x[1]) for x in zip(kmdl.feature_importances_, xxxx.columns)]"
   ]
  },
  {
   "cell_type": "code",
   "execution_count": 27,
   "metadata": {
    "scrolled": true
   },
   "outputs": [
    {
     "data": {
      "text/plain": [
       "[(0.056825027827512274, 'ZLook'),\n",
       " (0.16524512609374606, 'OLook'),\n",
       " (0.052934391925298155, 'ZCon'),\n",
       " (0.21909989757479012, 'ZWif'),\n",
       " (0.03646537253440944, 'OCon'),\n",
       " (0.32381254452994485, 'OWif'),\n",
       " (0.06597744936770226, 'F-Strike%'),\n",
       " (0.07964019014659685, 'TBF')]"
      ]
     },
     "execution_count": 27,
     "metadata": {},
     "output_type": "execute_result"
    }
   ],
   "source": [
    "[(x[0], x[1]) for x in zip(bmdl.feature_importances_, xxxx.columns)]"
   ]
  },
  {
   "cell_type": "code",
   "execution_count": 28,
   "metadata": {},
   "outputs": [
    {
     "data": {
      "text/plain": [
       "-2.8882442929820593"
      ]
     },
     "execution_count": 28,
     "metadata": {},
     "output_type": "execute_result"
    }
   ],
   "source": [
    "kmdl.score(xxxx, kkkk)"
   ]
  },
  {
   "cell_type": "code",
   "execution_count": 29,
   "metadata": {},
   "outputs": [
    {
     "data": {
      "text/plain": [
       "-4.102415280886887"
      ]
     },
     "execution_count": 29,
     "metadata": {},
     "output_type": "execute_result"
    }
   ],
   "source": [
    "bmdl.score(xxxx, bbbb)"
   ]
  },
  {
   "cell_type": "code",
   "execution_count": null,
   "metadata": {},
   "outputs": [],
   "source": [
    "# tota['xK-BB'] = y_hat\n",
    "# tota.to_csv(\"Resources/data2019.csv\")"
   ]
  },
  {
   "cell_type": "code",
   "execution_count": 30,
   "metadata": {},
   "outputs": [
    {
     "data": {
      "text/plain": [
       "(0, 0.5)"
      ]
     },
     "execution_count": 30,
     "metadata": {},
     "output_type": "execute_result"
    },
    {
     "data": {
      "image/png": "[encoded data removed]",
      "text/plain": [
       "<Figure size 432x288 with 1 Axes>"
      ]
     },
     "metadata": {
      "needs_background": "light"
     },
     "output_type": "display_data"
    },
    {
     "data": {
      "image/png": "[encoded data removed]",
      "text/plain": [
       "<Figure size 432x288 with 1 Axes>"
      ]
     },
     "metadata": {
      "needs_background": "light"
     },
     "output_type": "display_data"
    }
   ],
   "source": [
    "plt.figure(0)\n",
    "plt.scatter(kkkk, k_hat, c='b')\n",
    "b, m = poly(kkkk, k_hat, 1)\n",
    "plt.plot(kkkk, b + m * kkkk, '-', c='r')\n",
    "plt.xlabel('Actual')\n",
    "plt.ylabel('Expected')\n",
    "plt.xlim(0,0.5)\n",
    "plt.ylim(0, 0.5) \n",
    "\n",
    "plt.figure(1)\n",
    "plt.scatter(bbbb, b_hat, c='b')\n",
    "b, m = poly(bbbb, b_hat, 1)\n",
    "plt.plot(bbbb, b + m * bbbb, '-', c='r')\n",
    "plt.xlabel('Actual')\n",
    "plt.ylabel('Expected')\n",
    "plt.xlim(0,0.5)\n",
    "plt.ylim(0, 0.5)"
   ]
  },
  {
   "cell_type": "code",
   "execution_count": null,
   "metadata": {},
   "outputs": [],
   "source": []
  }
 ],
 "metadata": {
  "kernelspec": {
   "display_name": "Python 3",
   "language": "python",
   "name": "python3"
  },
  "language_info": {
   "codemirror_mode": {
    "name": "ipython",
    "version": 3
   },
   "file_extension": ".py",
   "mimetype": "text/x-python",
   "name": "python",
   "nbconvert_exporter": "python",
   "pygments_lexer": "ipython3",
   "version": "3.7.1"
  }
 },
 "nbformat": 4,
 "nbformat_minor": 2
}
